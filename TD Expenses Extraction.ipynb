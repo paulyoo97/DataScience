{
 "cells": [
  {
   "attachments": {},
   "cell_type": "markdown",
   "metadata": {},
   "source": [
    "# Extracting TD Bank Statement Expenses #"
   ]
  },
  {
   "attachments": {},
   "cell_type": "markdown",
   "metadata": {},
   "source": [
    "1. Download data\n",
    "    - manually get data from bank account\n",
    "            - download in order from January to December\n",
    "            - rename files once downloaded using for loop\n",
    "\n",
    "2. Preprocess the data\n",
    "    - transform data into pandas dataframe\n",
    "    - clean and organize\n",
    "    - change data type for 'Date' column\n",
    "\n",
    "3. Export the data\n",
    "    - export the dataframe into sheets\n",
    "        - use a for loop to iterate. Use the length of number of PDFs in the folder\n",
    "        - use if statement to check whether or not sheet already exists\n",
    "\n",
    "4. Visualize the data in Python or Excel\n",
    "    - create bar graphs for each month\n",
    "    - create line/scatter plot with daily usage\n",
    "        - automate using VBA\n",
    "\n",
    "*Note: This script was made specifically for TD Bank users.*\n"
   ]
  },
  {
   "attachments": {},
   "cell_type": "markdown",
   "metadata": {},
   "source": [
    "Import Libraries"
   ]
  },
  {
   "cell_type": "code",
   "execution_count": 141,
   "metadata": {},
   "outputs": [
    {
     "name": "stdout",
     "output_type": "stream",
     "text": [
      "PDFs have already been renamed.\n"
     ]
    }
   ],
   "source": [
    "# Libraries\n",
    "import tabula\n",
    "from tabula import read_pdf\n",
    "from tabulate import tabulate\n",
    "import glob\n",
    "import os\n",
    "import pandas as pd\n",
    "\n",
    "# Check if files exist and rename according to month\n",
    "# Note: Download file by month order. Makes renaming easier.\n",
    "month_name = ['jan','feb','march','april','may','june','october','august','sept','oct','nov','dec']\n",
    "i = 0\n",
    "files = glob.glob('*.pdf')\n",
    "files.sort(key=lambda x: os.path.getmtime(x))   # Sorts files in order of download. Useful for proper renaming\n",
    "\n",
    "if os.path.exists('jan2022.pdf') is False:\n",
    "    for file in files:\n",
    "        new_file_name = month_name[i]+'2021.pdf'\n",
    "        os.rename(files[i],new_file_name)\n",
    "        i+=1\n",
    "else:\n",
    "    print('PDFs have already been renamed.')"
   ]
  },
  {
   "attachments": {},
   "cell_type": "markdown",
   "metadata": {},
   "source": [
    "Import Bank Statement PDFs"
   ]
  },
  {
   "cell_type": "code",
   "execution_count": 142,
   "metadata": {},
   "outputs": [
    {
     "name": "stdout",
     "output_type": "stream",
     "text": [
      "['jan2022.pdf', 'feb2022.pdf', 'march2022.pdf', 'april2022.pdf', 'may2022.pdf', 'june2022.pdf', 'july2022.pdf', 'august2022.pdf', 'sept2022.pdf', 'oct2022.pdf', 'nov2022.pdf', 'dec2022.pdf']\n"
     ]
    }
   ],
   "source": [
    "# Retrieve PDF statement paths in order\n",
    "files = glob.glob('*.pdf')\n",
    "files.sort(key=lambda x: os.path.getmtime(x))   # sorts files by modified/downloaded dates\n",
    "type(files)\n",
    "print(files)\n"
   ]
  },
  {
   "attachments": {},
   "cell_type": "markdown",
   "metadata": {},
   "source": [
    "Monthly Expenses and Deposits"
   ]
  },
  {
   "cell_type": "code",
   "execution_count": 143,
   "metadata": {},
   "outputs": [],
   "source": [
    "# Get the monthly expenses (withdrawls) and deposits\n",
    "months=[]\n",
    "for file in files:\n",
    "    statement = tabula.read_pdf(file,pages='all')   # finds all the tables\n",
    "    index = list(range(len(statement))) # gets a list of the number of tables in the statement\n",
    "\n",
    "    # Monthly Withdrawals & Deposits\n",
    "    monthly = pd.DataFrame()\n",
    "    for i in index:\n",
    "        if statement[i].columns.any() == 'Description':  # Used boolean to verify\n",
    "            new = statement[i].iloc[:,:].tail(1)  # Gets all columns of the last row\n",
    "            monthly = pd.concat([monthly,new], ignore_index=True)\n",
    "        elif i == index[-1]:\n",
    "            monthly = monthly.drop(['Balance','Description','Date'],axis=1).fillna(0) # Some desposits actually named 'Unnamed: 0'.\n",
    "            # drop 'Balance' to cover personal information.\n",
    "            monthly['Deposits'] = monthly['Deposits'].replace(',','',regex=True).astype(float)    # had data as strings\n",
    "            monthly['Withdrawals'] = monthly['Withdrawals'].replace(',','',regex=True).astype(float)\n",
    "\n",
    "            if monthly.columns.str.contains('^Unnamed').any() == True: # must use this specific method to find the Unnamed: 0 column\n",
    "                monthly['Deposits'] = monthly['Deposits'] +monthly['Unnamed: 0']\n",
    "                monthly = monthly.drop('Unnamed: 0',axis=1)\n",
    "                months.append(monthly)\n",
    "            else:\n",
    "                months.append(monthly)\n",
    "        else:\n",
    "            continue"
   ]
  },
  {
   "attachments": {},
   "cell_type": "markdown",
   "metadata": {},
   "source": [
    "Monthly Daily Transactions"
   ]
  },
  {
   "cell_type": "code",
   "execution_count": 144,
   "metadata": {},
   "outputs": [],
   "source": [
    "# Get Monthly Daily Transactions\n",
    "daily=[]\n",
    "for file in files:\n",
    "    statement = tabula.read_pdf(file,pages='all')   # finds all the tables\n",
    "    index = list(range(len(statement))) # gets a list of the number of tables in the statement\n",
    "\n",
    "    # Daily Withdrawals & Deposits\n",
    "    days = pd.DataFrame()\n",
    "    for i in index:\n",
    "        if statement[i].columns.any() == 'Description':  # Used boolean to verify\n",
    "            new = statement[i].iloc[:,:]  # Gets all the rows and columns of the transaction tables\n",
    "            new = new.drop(new.head(1).index, axis=0)   # drops the first row of each  table since it gives the starting balance\n",
    "            new = new.drop(new.tail(1).index, axis=0)   # drops the last row of each table since it gives the total\n",
    "            days = pd.concat([days,new],ignore_index=True)\n",
    "        elif i == index[-1]:\n",
    "            days['Deposits'] = days['Deposits'].replace(',','',regex=True).astype(float)    # data as strings\n",
    "            days['Withdrawals'] = days['Withdrawals'].replace(',','',regex=True).astype(float)\n",
    "            days = days.drop(['Balance'],axis=1)\n",
    "            days = days.fillna(0)\n",
    "            if days.columns.str.contains('^Unnamed').any() == True: # must use this specific method to find the Unnamed: 0 column\n",
    "                '''days = days.drop('Unnamed: 0',axis=1) # can't drop Unnamed: 0 with this method'''\n",
    "                days['Deposits'] = days['Deposits'] +days['Unnamed: 0']\n",
    "                days = days.drop('Unnamed: 0',axis=1)\n",
    "                daily.append(days)\n",
    "            # keep 'Balance' but for personal use.\n",
    "            else:\n",
    "                daily.append(days)\n",
    "        else:\n",
    "            continue"
   ]
  },
  {
   "attachments": {},
   "cell_type": "markdown",
   "metadata": {},
   "source": [
    "Change Data type of 'Date' Column"
   ]
  },
  {
   "cell_type": "code",
   "execution_count": null,
   "metadata": {},
   "outputs": [],
   "source": [
    "import datetime\n",
    "for the_month in daily:\n",
    "    for i in range(the_month.shape[0]):\n",
    "        change_date = the_month['Date'].iloc[i]\n",
    "        change_date = change_date[:3].lower() + '/' + str(int(change_date[3:])) +'/2022'\n",
    "        format = \"%b/%d/%Y\"\n",
    "        the_month['Date'].iloc[i] = datetime.datetime.strptime(change_date,format)"
   ]
  },
  {
   "cell_type": "code",
   "execution_count": 146,
   "metadata": {},
   "outputs": [],
   "source": [
    "# October\n",
    "october = daily[9].copy()\n",
    "october['Date'] = pd.to_datetime(october['Date'])\n",
    "october = october.groupby('Date').sum('Withdrawls')"
   ]
  },
  {
   "cell_type": "code",
   "execution_count": 147,
   "metadata": {},
   "outputs": [
    {
     "data": {
      "image/png": "[encoded data removed]",
      "text/plain": [
       "<Figure size 640x480 with 1 Axes>"
      ]
     },
     "metadata": {},
     "output_type": "display_data"
    }
   ],
   "source": [
    "# Withdrawals of the October\n",
    "import matplotlib.pyplot as plt\n",
    "plt.title('Withdrawal vs Date for October')\n",
    "plt.bar(october.index,october['Withdrawals'])\n",
    "plt.xlabel('Date')\n",
    "plt.ylabel('Withdrawal [$]')\n",
    "plt.xticks(rotation='vertical')\n",
    "plt.show()"
   ]
  },
  {
   "attachments": {},
   "cell_type": "markdown",
   "metadata": {},
   "source": [
    "Combine Monthly Daily Transcations into a Single Dataframe"
   ]
  },
  {
   "cell_type": "code",
   "execution_count": 148,
   "metadata": {},
   "outputs": [],
   "source": [
    "all_monthly_daily = pd.DataFrame()\n",
    "for day in daily:\n",
    "    all_monthly_daily = pd.concat([all_monthly_daily,day])\n",
    "# all_monthly_daily"
   ]
  },
  {
   "cell_type": "code",
   "execution_count": 149,
   "metadata": {},
   "outputs": [],
   "source": [
    "total = all_monthly_daily.groupby('Date').sum('Withdrawals')"
   ]
  },
  {
   "cell_type": "code",
   "execution_count": null,
   "metadata": {},
   "outputs": [],
   "source": [
    "# Withdrawals of the Year\n",
    "import matplotlib.pyplot as plt\n",
    "plt.figure(figsize=(9,5))\n",
    "plt.title('Withdrawal vs Date for 2022')\n",
    "plt.plot(total['Withdrawals'])\n",
    "plt.xlabel('Date')\n",
    "plt.ylabel('Withdrawal [$]')\n",
    "plt.xticks(rotation='vertical')\n",
    "plt.show()"
   ]
  },
  {
   "attachments": {},
   "cell_type": "markdown",
   "metadata": {},
   "source": [
    "Export as Excel file"
   ]
  },
  {
   "cell_type": "code",
   "execution_count": 151,
   "metadata": {},
   "outputs": [
    {
     "name": "stdout",
     "output_type": "stream",
     "text": [
      "['jan', 'feb', 'march', 'april', 'may', 'june', 'july', 'august', 'sept', 'oct', 'nov', 'dec']\n"
     ]
    }
   ],
   "source": [
    "# Another technique to get month names\n",
    "sheets = []\n",
    "for file in files:\n",
    "    sheet = os.path.basename(file)\n",
    "    sheet = sheet.split(\"2\")[0]\n",
    "    sheets.append(sheet)\n",
    "print(sheets)\n",
    "# Or just use month_name from earlier in the notebook"
   ]
  },
  {
   "cell_type": "code",
   "execution_count": 152,
   "metadata": {},
   "outputs": [],
   "source": [
    " # Won't overwrite\n",
    " # Export Monthly Daily transactions into a single excel with sheet corresponding to each month\n",
    "if os.path.exists('monthly_daily2022.xlsx') is False:\n",
    "    i=0\n",
    "    with pd.ExcelWriter('monthly_daily2022.xlsx') as writer:\n",
    "        for sheet in sheets:\n",
    "            daily[i].to_excel(writer,sheet_name=sheet,index=False)\n",
    "            i+=1\n",
    "else:\n",
    "    print(\"Done\")"
   ]
  },
  {
   "cell_type": "code",
   "execution_count": 153,
   "metadata": {},
   "outputs": [],
   "source": [
    "if os.path.exists('Total_Expenses2022.xlsx') is False:\n",
    "    i=0\n",
    "    with pd.ExcelWriter('Total_Expenses.xlsx') as writer:\n",
    "        all_monthly_daily.to_excel(writer,sheet_name='Expenses2022',index=False)\n",
    "else:\n",
    "    print(\"Done\")"
   ]
  }
 ],
 "metadata": {
  "kernelspec": {
   "display_name": "Python 3",
   "language": "python",
   "name": "python3"
  },
  "language_info": {
   "codemirror_mode": {
    "name": "ipython",
    "version": 3
   },
   "file_extension": ".py",
   "mimetype": "text/x-python",
   "name": "python",
   "nbconvert_exporter": "python",
   "pygments_lexer": "ipython3",
   "version": "3.10.5"
  },
  "orig_nbformat": 4,
  "vscode": {
   "interpreter": {
    "hash": "d79af3a7e450baeab169c06d8a97bfb87dfd362ef5622665fb69a71c7b4e7bda"
   }
  }
 },
 "nbformat": 4,
 "nbformat_minor": 2
}
